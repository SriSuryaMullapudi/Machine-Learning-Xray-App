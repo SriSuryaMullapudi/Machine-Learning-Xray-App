{
 "cells": [
  {
   "cell_type": "code",
   "execution_count": 20,
   "metadata": {},
   "outputs": [],
   "source": [
    "import os,sys\n",
    "from glob import glob\n",
    "import matplotlib.pyplot as plt\n",
    "import numpy as np\n",
    "import pandas as pd\n",
    "from numpy import isnan"
   ]
  },
  {
   "cell_type": "code",
   "execution_count": 21,
   "metadata": {},
   "outputs": [],
   "source": [
    "#load features from all images\n",
    "feats = np.load('MobileNet_Features.npy')"
   ]
  },
  {
   "cell_type": "code",
   "execution_count": 22,
   "metadata": {},
   "outputs": [],
   "source": [
    "#load meta information\n",
    "files = pd.read_csv(\"metadata.csv\")"
   ]
  },
  {
   "cell_type": "code",
   "execution_count": 23,
   "metadata": {},
   "outputs": [],
   "source": [
    "# Get opacity score and paitent ID\n",
    "PID = np.array(files.patientid)\n",
    "Score = np.array(files.score)"
   ]
  },
  {
   "cell_type": "code",
   "execution_count": 24,
   "metadata": {},
   "outputs": [],
   "source": [
    "#Extract Feature from each paitent with last two feature difference method and assign corresponding radiological trajectory labels\n",
    "LastID = PID[0]\n",
    "LastScore = Score[0]\n",
    "Currentfeat = feats[0]\n",
    "Label = []\n",
    "allfeats = []\n",
    "allIDS = []\n",
    "allContinent = []\n",
    "for i in range(1,259):\n",
    "    NewID = PID[i]\n",
    "    NewScore = Score[i]\n",
    "    if (NewID == LastID):\n",
    "        Currentfeat = feats[i]-Currentfeat\n",
    "        allfeats.append(Currentfeat)\n",
    "        Score_dif = NewScore-LastScore\n",
    "        if Score_dif>0.3:\n",
    "            Label.append(1)\n",
    "        elif Score_dif<-0.3:\n",
    "            Label.append(-1)\n",
    "        else:\n",
    "            Label.append(0)\n",
    "        allIDS.append(PID[i])\n",
    "    else:\n",
    "        LastID = NewID\n",
    "        Currentfeat = feats[i]\n",
    "    LastScore = NewScore\n",
    "feats_difference = np.array(allfeats)\n",
    "np.save('Feature_Difference_MobileNet',feats_difference)"
   ]
  },
  {
   "cell_type": "code",
   "execution_count": 25,
   "metadata": {},
   "outputs": [],
   "source": [
    "#Extract Feature from each paitent with all features concatenation method and assign corresponding radiological trajectory labels\n",
    "LastID = PID[0]\n",
    "LastScore = Score[0]\n",
    "Currentfeat = feats[0]\n",
    "Label = []\n",
    "allfeats = []\n",
    "allIDS = []\n",
    "\n",
    "\n",
    "for i in range(1,259):\n",
    "    NewID = PID[i]\n",
    "    NewScore = Score[i]\n",
    "    if (NewID == LastID):\n",
    "        Currentfeat = np.vstack((Currentfeat,feats[i]))\n",
    "        allfeats.append(Currentfeat)\n",
    "        Score_dif = NewScore-LastScore\n",
    "        if Score_dif>0.3:\n",
    "            Label.append(1)\n",
    "        elif Score_dif<-0.3:\n",
    "            Label.append(-1)\n",
    "        else:\n",
    "            Label.append(0)\n",
    "    else:\n",
    "        LastID = NewID\n",
    "        Currentfeat = feats[i]\n",
    "    LastScore = NewScore"
   ]
  },
  {
   "cell_type": "code",
   "execution_count": 26,
   "metadata": {},
   "outputs": [],
   "source": [
    "#Zero Padding\n",
    "pad2 = np.zeros((2,Currentfeat.shape[1]))\n",
    "pad3 = np.zeros((1,Currentfeat.shape[1]))\n",
    "allfestspad = []\n",
    "for i in range(len(allfeats)):\n",
    "    if(allfeats[i].shape[0]==2):\n",
    "        allfestspad.append(np.vstack((pad2,allfeats[i])))\n",
    "    elif(allfeats[i].shape[0]==3):\n",
    "        allfestspad.append(np.vstack((pad3,allfeats[i])))\n",
    "    else:\n",
    "        allfestspad.append(allfeats[i])\n",
    "feats_concatenation = np.array(allfestspad)\n",
    "np.save('Feature_Concatenation_MobileNet',feats_concatenation)"
   ]
  },
  {
   "cell_type": "code",
   "execution_count": 27,
   "metadata": {},
   "outputs": [],
   "source": [
    "#save radiological trajectory labels\n",
    "labels = np.array(Label)\n",
    "np.save('Labels',labels)"
   ]
  }
 ],
 "metadata": {
  "kernelspec": {
   "display_name": "Python 3.7.0 64-bit ('pytorch13py37': conda)",
   "language": "python",
   "name": "python37064bitpytorch13py37conda8276faef4ca54a609119653f6cb51cde"
  },
  "language_info": {
   "codemirror_mode": {
    "name": "ipython",
    "version": 3
   },
   "file_extension": ".py",
   "mimetype": "text/x-python",
   "name": "python",
   "nbconvert_exporter": "python",
   "pygments_lexer": "ipython3",
   "version": "3.7.0-final"
  }
 },
 "nbformat": 4,
 "nbformat_minor": 2
}