{
 "cells": [
  {
   "cell_type": "code",
   "execution_count": 20,
   "metadata": {},
   "outputs": [],
   "source": [
    "import pandas as pd\n",
    "import torch\n",
    "import torch.nn as nn\n",
    "from torchvision import datasets, models, transforms\n",
    "from PIL import Image\n",
    "import copy\n",
    "import numpy as np"
   ]
  },
  {
   "cell_type": "code",
   "execution_count": 15,
   "metadata": {},
   "outputs": [],
   "source": [
    "#load meta information\n",
    "files = pd.read_csv(\"Dataset_FollowUp/metadata.csv\")\n",
    "imgpath = \"Dataset_FollowUp/\"+files['folder']+'/'+files['filename']\n",
    "#number of CXR images\n",
    "N = 259"
   ]
  },
  {
   "cell_type": "code",
   "execution_count": 16,
   "metadata": {},
   "outputs": [],
   "source": [
    "device = torch.device(\"cuda:0\")"
   ]
  },
  {
   "cell_type": "code",
   "execution_count": 17,
   "metadata": {
    "tags": []
   },
   "outputs": [],
   "source": [
    "num_classes = 3\n",
    "mobilenet = models.mobilenet_v2(pretrained=True)\n",
    "mobilenet.classifier[1] = nn.Linear(1280,num_classes)\n",
    "mobilenet = torch.load('MobileNet_weights/best_validation_weights')\n",
    "mobilenet.to(device)\n",
    "mobilenet.eval();\n",
    "feat = copy.deepcopy(mobilenet)\n",
    "feat.classifier = feat.classifier[0]\n",
    "result_path = []\n",
    "result_feats = []\n",
    "feat.eval();\n",
    "for i in range(N):\n",
    "    img_path = imgpath[i]\n",
    "    img = Image.open(img_path)\n",
    "    img = img.convert(\"RGB\")\n",
    "    normalize = transforms.Normalize(mean=[0.485, 0.456, 0.406],\n",
    "                                    std=[0.229, 0.224, 0.225])\n",
    "    transform =    transforms.Compose([\n",
    "            transforms.Resize((256,256)),\n",
    "            transforms.CenterCrop(224),\n",
    "            transforms.ToTensor(),\n",
    "            normalize])\n",
    "\n",
    "    img = transform(img)\n",
    "    with torch.no_grad():\n",
    "        img = img.unsqueeze(0)\n",
    "        img = img.cuda()\n",
    "        outputs = feat(img)\n",
    "        output_np = outputs.cpu().numpy().squeeze()\n",
    "        result_path.append(img_path)\n",
    "        result_feats.append(output_np)"
   ]
  },
  {
   "cell_type": "code",
   "execution_count": null,
   "metadata": {},
   "outputs": [],
   "source": [
    "result_feats_np = np.array(result_feats)\n",
    "np.save('MobileNet_Features.npy',result_feats_np)"
   ]
  }
 ],
 "metadata": {
  "kernelspec": {
   "display_name": "Python 3.8.0 64-bit ('pytorch11': conda)",
   "language": "python",
   "name": "python38064bitpytorch11conda2d5ab02189b1420080d7495c5f46475b"
  },
  "language_info": {
   "codemirror_mode": {
    "name": "ipython",
    "version": 3
   },
   "file_extension": ".py",
   "mimetype": "text/x-python",
   "name": "python",
   "nbconvert_exporter": "python",
   "pygments_lexer": "ipython3",
   "version": "3.8.0-final"
  }
 },
 "nbformat": 4,
 "nbformat_minor": 2
}